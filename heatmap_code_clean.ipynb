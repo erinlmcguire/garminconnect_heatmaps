{
 "cells": [
  {
   "cell_type": "markdown",
   "metadata": {},
   "source": [
    "Load the necessary packages"
   ]
  },
  {
   "cell_type": "code",
   "execution_count": 2,
   "metadata": {},
   "outputs": [],
   "source": [
    "import os, gpxpy, pandas as pd, gmaps"
   ]
  },
  {
   "cell_type": "markdown",
   "metadata": {},
   "source": [
    "Define the directory for the gpx files"
   ]
  },
  {
   "cell_type": "code",
   "execution_count": 3,
   "metadata": {},
   "outputs": [],
   "source": [
    "gpx_folder = '/Users/erinmcguire/Documents/test1'\n",
    "gpx_files = os.listdir(gpx_folder)"
   ]
  },
  {
   "cell_type": "markdown",
   "metadata": {},
   "source": [
    "Go through all the gpx files and load the coordinates into a pandas dataframe"
   ]
  },
  {
   "cell_type": "code",
   "execution_count": 4,
   "metadata": {},
   "outputs": [],
   "source": [
    "coordinates_df = {}\n",
    "for i in range(len(gpx_files)):\n",
    "    try:\n",
    "        if not gpx_files[i].startswith('.'):\n",
    "            run = gpxpy.parse(open(gpx_folder+'/'+ gpx_files[i]))\n",
    "            route_coords = [[point.latitude, point.longitude, point.elevation] \n",
    "                                for track in run.tracks \n",
    "                                        for segment in track.segments \n",
    "                                            for point in segment.points]\n",
    "            coordinates_df[i] = pd.DataFrame(route_coords)\n",
    "        else:\n",
    "            continue\n",
    "    except:\n",
    "        pass"
   ]
  },
  {
   "cell_type": "markdown",
   "metadata": {},
   "source": [
    "Concatenate all the runs together along the lattitude, longitude, and elevation"
   ]
  },
  {
   "cell_type": "code",
   "execution_count": 5,
   "metadata": {},
   "outputs": [],
   "source": [
    "heatcoords_df = pd.concat(coordinates_df, ignore_index = True)\n",
    "heatcoords_df.columns = ['Latitude', 'Longitude', 'Altitude']\n",
    "#drop altitude because we're not using that in the heatmap\n",
    "runningheatmap = heatcoords_df.drop('Altitude', axis = 1)"
   ]
  },
  {
   "cell_type": "markdown",
   "metadata": {},
   "source": [
    "Define the Google Cloud API Key (this should be in the private.py)"
   ]
  },
  {
   "cell_type": "code",
   "execution_count": null,
   "metadata": {},
   "outputs": [],
   "source": [
    "gmaps.configure(api_key=settings.API_KEY)"
   ]
  },
  {
   "cell_type": "markdown",
   "metadata": {},
   "source": [
    "Define the base map in google maps (center allows you to edit the lattitude and longitude of the center of the map)"
   ]
  },
  {
   "cell_type": "code",
   "execution_count": null,
   "metadata": {},
   "outputs": [],
   "source": [
    "fig = gmaps.figure(zoom_level = 11, center = (33.7490, -84.3880))"
   ]
  },
  {
   "cell_type": "markdown",
   "metadata": {},
   "source": [
    "Define the heatmap layer using the gmaps heatmap_layer function"
   ]
  },
  {
   "cell_type": "code",
   "execution_count": null,
   "metadata": {},
   "outputs": [],
   "source": [
    "heatmap = gmaps.heatmap_layer(runningheatmap)"
   ]
  },
  {
   "cell_type": "markdown",
   "metadata": {},
   "source": [
    "Set intensity and radius of the map"
   ]
  },
  {
   "cell_type": "code",
   "execution_count": null,
   "metadata": {},
   "outputs": [],
   "source": [
    "heatmap.max_intensity = 115\n",
    "heatmap.point_radius = 3"
   ]
  },
  {
   "cell_type": "markdown",
   "metadata": {},
   "source": [
    "Set the gradient for the map and opacity"
   ]
  },
  {
   "cell_type": "code",
   "execution_count": null,
   "metadata": {},
   "outputs": [],
   "source": [
    "heatmap.gradient = [\"rgba(102, 255, 0, 0)\",\n",
    "    \"rgba(255, 0, 0, 1)\",\n",
    "  \"rgba(255, 57, 0, 1)\",\n",
    "  \"rgba(255, 113, 0, 1)\",\n",
    "  \"rgba(255, 170, 0, 1)\",\n",
    "  \"rgba(249, 198, 0, 1)\",\n",
    "  \"rgba(244, 227, 0, 1)\",\n",
    "  \"rgba(238, 255, 0, 1)\",\n",
    "  \"rgba(193, 255, 0, 1)\",\n",
    "  \"rgba(147, 255, 0, 1)\",\n",
    "  \"rgba(102, 255, 0, 1)\"\n",
    "]\n",
    "heatmap.opacity = 1"
   ]
  },
  {
   "cell_type": "markdown",
   "metadata": {},
   "source": [
    "Add the heatmap on to the base map "
   ]
  },
  {
   "cell_type": "code",
   "execution_count": null,
   "metadata": {},
   "outputs": [],
   "source": [
    "fig.add_layer(heatmap)"
   ]
  },
  {
   "cell_type": "markdown",
   "metadata": {},
   "source": [
    "Prints the map"
   ]
  },
  {
   "cell_type": "code",
   "execution_count": null,
   "metadata": {},
   "outputs": [],
   "source": [
    "fig"
   ]
  }
 ],
 "metadata": {
  "kernelspec": {
   "display_name": "Python 3",
   "language": "python",
   "name": "python3"
  },
  "language_info": {
   "codemirror_mode": {
    "name": "ipython",
    "version": 3
   },
   "file_extension": ".py",
   "mimetype": "text/x-python",
   "name": "python",
   "nbconvert_exporter": "python",
   "pygments_lexer": "ipython3",
   "version": "3.7.4"
  }
 },
 "nbformat": 4,
 "nbformat_minor": 4
}
